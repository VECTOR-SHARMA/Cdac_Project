{
 "cells": [
  {
   "cell_type": "code",
   "execution_count": 162,
   "id": "0bab80a4",
   "metadata": {},
   "outputs": [],
   "source": [
    "import pandas as pd\n",
    "import numpy as np\n",
    "import matplotlib.pyplot as plt\n",
    "import statsmodels.api as sms\n",
    "\n",
    "%matplotlib inline"
   ]
  },
  {
   "cell_type": "code",
   "execution_count": 163,
   "id": "ac1580f0",
   "metadata": {},
   "outputs": [],
   "source": [
    "df=pd.read_csv(r\"D:\\IACSD Study Material\\Project\\FullDataCsv\\NIFTY_50__EQ__INDICES__NSE__MINUTE.csv\")"
   ]
  },
  {
   "cell_type": "code",
   "execution_count": 164,
   "id": "6e55c1dc",
   "metadata": {},
   "outputs": [
    {
     "data": {
      "text/html": [
       "<div>\n",
       "<style scoped>\n",
       "    .dataframe tbody tr th:only-of-type {\n",
       "        vertical-align: middle;\n",
       "    }\n",
       "\n",
       "    .dataframe tbody tr th {\n",
       "        vertical-align: top;\n",
       "    }\n",
       "\n",
       "    .dataframe thead th {\n",
       "        text-align: right;\n",
       "    }\n",
       "</style>\n",
       "<table border=\"1\" class=\"dataframe\">\n",
       "  <thead>\n",
       "    <tr style=\"text-align: right;\">\n",
       "      <th></th>\n",
       "      <th>timestamp</th>\n",
       "      <th>open</th>\n",
       "      <th>high</th>\n",
       "      <th>low</th>\n",
       "      <th>close</th>\n",
       "      <th>volume</th>\n",
       "    </tr>\n",
       "  </thead>\n",
       "  <tbody>\n",
       "    <tr>\n",
       "      <th>0</th>\n",
       "      <td>2017-01-02 09:15:00+05:30</td>\n",
       "      <td>8210.10</td>\n",
       "      <td>8211.70</td>\n",
       "      <td>8189.00</td>\n",
       "      <td>8189.55</td>\n",
       "      <td>0.0</td>\n",
       "    </tr>\n",
       "    <tr>\n",
       "      <th>1</th>\n",
       "      <td>2017-01-02 09:16:00+05:30</td>\n",
       "      <td>8188.75</td>\n",
       "      <td>8193.95</td>\n",
       "      <td>8188.75</td>\n",
       "      <td>8189.95</td>\n",
       "      <td>0.0</td>\n",
       "    </tr>\n",
       "    <tr>\n",
       "      <th>2</th>\n",
       "      <td>2017-01-02 09:17:00+05:30</td>\n",
       "      <td>8190.15</td>\n",
       "      <td>8190.75</td>\n",
       "      <td>8173.70</td>\n",
       "      <td>8173.70</td>\n",
       "      <td>0.0</td>\n",
       "    </tr>\n",
       "    <tr>\n",
       "      <th>3</th>\n",
       "      <td>2017-01-02 09:18:00+05:30</td>\n",
       "      <td>8173.35</td>\n",
       "      <td>8177.55</td>\n",
       "      <td>8169.15</td>\n",
       "      <td>8177.55</td>\n",
       "      <td>0.0</td>\n",
       "    </tr>\n",
       "    <tr>\n",
       "      <th>4</th>\n",
       "      <td>2017-01-02 09:19:00+05:30</td>\n",
       "      <td>8177.85</td>\n",
       "      <td>8178.15</td>\n",
       "      <td>8173.45</td>\n",
       "      <td>8174.40</td>\n",
       "      <td>0.0</td>\n",
       "    </tr>\n",
       "  </tbody>\n",
       "</table>\n",
       "</div>"
      ],
      "text/plain": [
       "                   timestamp     open     high      low    close  volume\n",
       "0  2017-01-02 09:15:00+05:30  8210.10  8211.70  8189.00  8189.55     0.0\n",
       "1  2017-01-02 09:16:00+05:30  8188.75  8193.95  8188.75  8189.95     0.0\n",
       "2  2017-01-02 09:17:00+05:30  8190.15  8190.75  8173.70  8173.70     0.0\n",
       "3  2017-01-02 09:18:00+05:30  8173.35  8177.55  8169.15  8177.55     0.0\n",
       "4  2017-01-02 09:19:00+05:30  8177.85  8178.15  8173.45  8174.40     0.0"
      ]
     },
     "execution_count": 164,
     "metadata": {},
     "output_type": "execute_result"
    }
   ],
   "source": [
    "df.head()"
   ]
  },
  {
   "cell_type": "code",
   "execution_count": 166,
   "id": "dc07bbe9",
   "metadata": {},
   "outputs": [],
   "source": [
    "#Editing TimeStamp\n",
    "df[\"timestamp\"] = df[\"timestamp\"].apply(lambda x: x.replace(\"+05:30\",\"\"))"
   ]
  },
  {
   "cell_type": "code",
   "execution_count": 167,
   "id": "487e1855",
   "metadata": {},
   "outputs": [
    {
     "name": "stdout",
     "output_type": "stream",
     "text": [
      "<class 'pandas.core.frame.DataFrame'>\n",
      "DatetimeIndex: 370740 entries, 2017-01-02 09:15:00 to 2021-01-01 15:29:00\n",
      "Data columns (total 5 columns):\n",
      " #   Column  Non-Null Count   Dtype  \n",
      "---  ------  --------------   -----  \n",
      " 0   open    370677 non-null  float64\n",
      " 1   high    370677 non-null  float64\n",
      " 2   low     370677 non-null  float64\n",
      " 3   close   370677 non-null  float64\n",
      " 4   volume  370677 non-null  float64\n",
      "dtypes: float64(5)\n",
      "memory usage: 17.0 MB\n"
     ]
    }
   ],
   "source": [
    "df['timestamp'] = pd.to_datetime(df['timestamp'])\n",
    "df.set_index('timestamp', inplace=True)\n",
    "df.info()"
   ]
  },
  {
   "cell_type": "code",
   "execution_count": 168,
   "id": "72cbd9da",
   "metadata": {},
   "outputs": [
    {
     "data": {
      "text/html": [
       "<div>\n",
       "<style scoped>\n",
       "    .dataframe tbody tr th:only-of-type {\n",
       "        vertical-align: middle;\n",
       "    }\n",
       "\n",
       "    .dataframe tbody tr th {\n",
       "        vertical-align: top;\n",
       "    }\n",
       "\n",
       "    .dataframe thead th {\n",
       "        text-align: right;\n",
       "    }\n",
       "</style>\n",
       "<table border=\"1\" class=\"dataframe\">\n",
       "  <thead>\n",
       "    <tr style=\"text-align: right;\">\n",
       "      <th></th>\n",
       "      <th>open</th>\n",
       "      <th>high</th>\n",
       "      <th>low</th>\n",
       "      <th>close</th>\n",
       "      <th>volume</th>\n",
       "    </tr>\n",
       "    <tr>\n",
       "      <th>timestamp</th>\n",
       "      <th></th>\n",
       "      <th></th>\n",
       "      <th></th>\n",
       "      <th></th>\n",
       "      <th></th>\n",
       "    </tr>\n",
       "  </thead>\n",
       "  <tbody>\n",
       "    <tr>\n",
       "      <th>2017-01-02 09:15:00</th>\n",
       "      <td>8210.10</td>\n",
       "      <td>8211.70</td>\n",
       "      <td>8189.00</td>\n",
       "      <td>8189.55</td>\n",
       "      <td>0.0</td>\n",
       "    </tr>\n",
       "    <tr>\n",
       "      <th>2017-01-02 09:16:00</th>\n",
       "      <td>8188.75</td>\n",
       "      <td>8193.95</td>\n",
       "      <td>8188.75</td>\n",
       "      <td>8189.95</td>\n",
       "      <td>0.0</td>\n",
       "    </tr>\n",
       "    <tr>\n",
       "      <th>2017-01-02 09:17:00</th>\n",
       "      <td>8190.15</td>\n",
       "      <td>8190.75</td>\n",
       "      <td>8173.70</td>\n",
       "      <td>8173.70</td>\n",
       "      <td>0.0</td>\n",
       "    </tr>\n",
       "    <tr>\n",
       "      <th>2017-01-02 09:18:00</th>\n",
       "      <td>8173.35</td>\n",
       "      <td>8177.55</td>\n",
       "      <td>8169.15</td>\n",
       "      <td>8177.55</td>\n",
       "      <td>0.0</td>\n",
       "    </tr>\n",
       "    <tr>\n",
       "      <th>2017-01-02 09:19:00</th>\n",
       "      <td>8177.85</td>\n",
       "      <td>8178.15</td>\n",
       "      <td>8173.45</td>\n",
       "      <td>8174.40</td>\n",
       "      <td>0.0</td>\n",
       "    </tr>\n",
       "  </tbody>\n",
       "</table>\n",
       "</div>"
      ],
      "text/plain": [
       "                        open     high      low    close  volume\n",
       "timestamp                                                      \n",
       "2017-01-02 09:15:00  8210.10  8211.70  8189.00  8189.55     0.0\n",
       "2017-01-02 09:16:00  8188.75  8193.95  8188.75  8189.95     0.0\n",
       "2017-01-02 09:17:00  8190.15  8190.75  8173.70  8173.70     0.0\n",
       "2017-01-02 09:18:00  8173.35  8177.55  8169.15  8177.55     0.0\n",
       "2017-01-02 09:19:00  8177.85  8178.15  8173.45  8174.40     0.0"
      ]
     },
     "execution_count": 168,
     "metadata": {},
     "output_type": "execute_result"
    }
   ],
   "source": [
    "df.head()"
   ]
  },
  {
   "cell_type": "code",
   "execution_count": 169,
   "id": "55252e74",
   "metadata": {},
   "outputs": [
    {
     "data": {
      "text/html": [
       "<div>\n",
       "<style scoped>\n",
       "    .dataframe tbody tr th:only-of-type {\n",
       "        vertical-align: middle;\n",
       "    }\n",
       "\n",
       "    .dataframe tbody tr th {\n",
       "        vertical-align: top;\n",
       "    }\n",
       "\n",
       "    .dataframe thead th {\n",
       "        text-align: right;\n",
       "    }\n",
       "</style>\n",
       "<table border=\"1\" class=\"dataframe\">\n",
       "  <thead>\n",
       "    <tr style=\"text-align: right;\">\n",
       "      <th></th>\n",
       "      <th>close</th>\n",
       "    </tr>\n",
       "    <tr>\n",
       "      <th>timestamp</th>\n",
       "      <th></th>\n",
       "    </tr>\n",
       "  </thead>\n",
       "  <tbody>\n",
       "    <tr>\n",
       "      <th>2017-01-02 09:15:00</th>\n",
       "      <td>8189.55</td>\n",
       "    </tr>\n",
       "    <tr>\n",
       "      <th>2017-01-02 09:16:00</th>\n",
       "      <td>8189.95</td>\n",
       "    </tr>\n",
       "    <tr>\n",
       "      <th>2017-01-02 09:17:00</th>\n",
       "      <td>8173.70</td>\n",
       "    </tr>\n",
       "    <tr>\n",
       "      <th>2017-01-02 09:18:00</th>\n",
       "      <td>8177.55</td>\n",
       "    </tr>\n",
       "    <tr>\n",
       "      <th>2017-01-02 09:19:00</th>\n",
       "      <td>8174.40</td>\n",
       "    </tr>\n",
       "    <tr>\n",
       "      <th>...</th>\n",
       "      <td>...</td>\n",
       "    </tr>\n",
       "    <tr>\n",
       "      <th>2021-01-01 15:25:00</th>\n",
       "      <td>14019.00</td>\n",
       "    </tr>\n",
       "    <tr>\n",
       "      <th>2021-01-01 15:26:00</th>\n",
       "      <td>14019.10</td>\n",
       "    </tr>\n",
       "    <tr>\n",
       "      <th>2021-01-01 15:27:00</th>\n",
       "      <td>14018.15</td>\n",
       "    </tr>\n",
       "    <tr>\n",
       "      <th>2021-01-01 15:28:00</th>\n",
       "      <td>14015.00</td>\n",
       "    </tr>\n",
       "    <tr>\n",
       "      <th>2021-01-01 15:29:00</th>\n",
       "      <td>14014.80</td>\n",
       "    </tr>\n",
       "  </tbody>\n",
       "</table>\n",
       "<p>370740 rows × 1 columns</p>\n",
       "</div>"
      ],
      "text/plain": [
       "                        close\n",
       "timestamp                    \n",
       "2017-01-02 09:15:00   8189.55\n",
       "2017-01-02 09:16:00   8189.95\n",
       "2017-01-02 09:17:00   8173.70\n",
       "2017-01-02 09:18:00   8177.55\n",
       "2017-01-02 09:19:00   8174.40\n",
       "...                       ...\n",
       "2021-01-01 15:25:00  14019.00\n",
       "2021-01-01 15:26:00  14019.10\n",
       "2021-01-01 15:27:00  14018.15\n",
       "2021-01-01 15:28:00  14015.00\n",
       "2021-01-01 15:29:00  14014.80\n",
       "\n",
       "[370740 rows x 1 columns]"
      ]
     },
     "execution_count": 169,
     "metadata": {},
     "output_type": "execute_result"
    }
   ],
   "source": [
    "df_arima=pd.DataFrame(df['close'])\n",
    "df_arima"
   ]
  },
  {
   "cell_type": "code",
   "execution_count": 170,
   "id": "12145993",
   "metadata": {},
   "outputs": [],
   "source": [
    "df_arima=df_arima.iloc[-50001:-1,].copy()"
   ]
  },
  {
   "cell_type": "code",
   "execution_count": 171,
   "id": "da50cb9b",
   "metadata": {},
   "outputs": [
    {
     "data": {
      "text/html": [
       "<div>\n",
       "<style scoped>\n",
       "    .dataframe tbody tr th:only-of-type {\n",
       "        vertical-align: middle;\n",
       "    }\n",
       "\n",
       "    .dataframe tbody tr th {\n",
       "        vertical-align: top;\n",
       "    }\n",
       "\n",
       "    .dataframe thead th {\n",
       "        text-align: right;\n",
       "    }\n",
       "</style>\n",
       "<table border=\"1\" class=\"dataframe\">\n",
       "  <thead>\n",
       "    <tr style=\"text-align: right;\">\n",
       "      <th></th>\n",
       "      <th>close</th>\n",
       "    </tr>\n",
       "    <tr>\n",
       "      <th>timestamp</th>\n",
       "      <th></th>\n",
       "    </tr>\n",
       "  </thead>\n",
       "  <tbody>\n",
       "    <tr>\n",
       "      <th>2020-06-24 14:24:00</th>\n",
       "      <td>10410.25</td>\n",
       "    </tr>\n",
       "    <tr>\n",
       "      <th>2020-06-24 14:25:00</th>\n",
       "      <td>10416.45</td>\n",
       "    </tr>\n",
       "    <tr>\n",
       "      <th>2020-06-24 14:26:00</th>\n",
       "      <td>10408.75</td>\n",
       "    </tr>\n",
       "    <tr>\n",
       "      <th>2020-06-24 14:27:00</th>\n",
       "      <td>10404.50</td>\n",
       "    </tr>\n",
       "    <tr>\n",
       "      <th>2020-06-24 14:28:00</th>\n",
       "      <td>10407.30</td>\n",
       "    </tr>\n",
       "    <tr>\n",
       "      <th>...</th>\n",
       "      <td>...</td>\n",
       "    </tr>\n",
       "    <tr>\n",
       "      <th>2021-01-01 15:24:00</th>\n",
       "      <td>14022.70</td>\n",
       "    </tr>\n",
       "    <tr>\n",
       "      <th>2021-01-01 15:25:00</th>\n",
       "      <td>14019.00</td>\n",
       "    </tr>\n",
       "    <tr>\n",
       "      <th>2021-01-01 15:26:00</th>\n",
       "      <td>14019.10</td>\n",
       "    </tr>\n",
       "    <tr>\n",
       "      <th>2021-01-01 15:27:00</th>\n",
       "      <td>14018.15</td>\n",
       "    </tr>\n",
       "    <tr>\n",
       "      <th>2021-01-01 15:28:00</th>\n",
       "      <td>14015.00</td>\n",
       "    </tr>\n",
       "  </tbody>\n",
       "</table>\n",
       "<p>50000 rows × 1 columns</p>\n",
       "</div>"
      ],
      "text/plain": [
       "                        close\n",
       "timestamp                    \n",
       "2020-06-24 14:24:00  10410.25\n",
       "2020-06-24 14:25:00  10416.45\n",
       "2020-06-24 14:26:00  10408.75\n",
       "2020-06-24 14:27:00  10404.50\n",
       "2020-06-24 14:28:00  10407.30\n",
       "...                       ...\n",
       "2021-01-01 15:24:00  14022.70\n",
       "2021-01-01 15:25:00  14019.00\n",
       "2021-01-01 15:26:00  14019.10\n",
       "2021-01-01 15:27:00  14018.15\n",
       "2021-01-01 15:28:00  14015.00\n",
       "\n",
       "[50000 rows x 1 columns]"
      ]
     },
     "execution_count": 171,
     "metadata": {},
     "output_type": "execute_result"
    }
   ],
   "source": [
    "df_arima"
   ]
  },
  {
   "cell_type": "code",
   "execution_count": 31,
   "id": "0ea8ff4a",
   "metadata": {},
   "outputs": [
    {
     "data": {
      "text/plain": [
       "close    3\n",
       "dtype: int64"
      ]
     },
     "execution_count": 31,
     "metadata": {},
     "output_type": "execute_result"
    }
   ],
   "source": [
    "df_arima.isnull().sum()"
   ]
  },
  {
   "cell_type": "code",
   "execution_count": 37,
   "id": "0a50fadf",
   "metadata": {},
   "outputs": [],
   "source": [
    "df_arima.dropna(inplace=True)"
   ]
  },
  {
   "cell_type": "code",
   "execution_count": 42,
   "id": "519aa5b4",
   "metadata": {},
   "outputs": [
    {
     "data": {
      "text/plain": [
       "close    0\n",
       "dtype: int64"
      ]
     },
     "execution_count": 42,
     "metadata": {},
     "output_type": "execute_result"
    }
   ],
   "source": [
    "df_arima.isnull().sum()\n",
    "df_armia.isna().sum()"
   ]
  },
  {
   "cell_type": "markdown",
   "id": "2c15f02e",
   "metadata": {},
   "source": [
    "## Check for Data is stationary or not using Dickey Fuller Test using Statsmodel library"
   ]
  },
  {
   "cell_type": "code",
   "execution_count": 39,
   "id": "65d2cf78",
   "metadata": {},
   "outputs": [],
   "source": [
    "from statsmodels.tsa.stattools import adfuller"
   ]
  },
  {
   "cell_type": "code",
   "execution_count": 40,
   "id": "40b1b3c5",
   "metadata": {},
   "outputs": [],
   "source": [
    "def adf_test(series):\n",
    "    result=adfuller(series)\n",
    "    print('ADF Statistics: {}'.format(result[0]))\n",
    "    print('p- value: {}'.format(result[1]))\n",
    "    if result[1] <= 0.05:\n",
    "        print(\"strong evidence against the null hypothesis, reject the null hypothesis. Data has no unit root and is stationary\")\n",
    "    else:\n",
    "        print(\"weak evidence against null hypothesis, time series has a unit root, indicating it is non-stationary \")"
   ]
  },
  {
   "cell_type": "code",
   "execution_count": 41,
   "id": "cf44c19b",
   "metadata": {},
   "outputs": [
    {
     "name": "stdout",
     "output_type": "stream",
     "text": [
      "ADF Statistics: 0.31007357659720025\n",
      "p- value: 0.9778019647761869\n",
      "weak evidence against null hypothesis, time series has a unit root, indicating it is non-stationary \n"
     ]
    }
   ],
   "source": [
    "adf_test(df_arima['close'])"
   ]
  },
  {
   "cell_type": "code",
   "execution_count": 44,
   "id": "a48d59f6",
   "metadata": {},
   "outputs": [
    {
     "name": "stdout",
     "output_type": "stream",
     "text": [
      "adf= 0.31007357659720025  pvalue= 0.9778019647761869 nobs= 49985 cvalue= {'1%': -3.4304808319666407, '5%': -2.8615978250419416, '10%': -2.5668007783574445} icbest= 322377.6965566526\n"
     ]
    }
   ],
   "source": [
    "adf,pvalue,usedlag,nobs,cvalue,icbest = adfuller(df_armia['close'])\n",
    "print(\"adf=\",adf,\" pvalue=\",pvalue,\"nobs=\",nobs,\"cvalue=\",cvalue,\"icbest=\",icbest)"
   ]
  },
  {
   "cell_type": "code",
   "execution_count": 45,
   "id": "f3bfea3a",
   "metadata": {},
   "outputs": [],
   "source": [
    "#Data is not stationary so use diffrencing"
   ]
  },
  {
   "cell_type": "code",
   "execution_count": 55,
   "id": "262579ab",
   "metadata": {},
   "outputs": [],
   "source": [
    "## Use Techniques Differencing\n",
    "df_arima['close first Diffrencing']=df_arima['close']-(df_arima['close'].shift(1))"
   ]
  },
  {
   "cell_type": "code",
   "execution_count": 56,
   "id": "5acf4b67",
   "metadata": {},
   "outputs": [
    {
     "data": {
      "text/html": [
       "<div>\n",
       "<style scoped>\n",
       "    .dataframe tbody tr th:only-of-type {\n",
       "        vertical-align: middle;\n",
       "    }\n",
       "\n",
       "    .dataframe tbody tr th {\n",
       "        vertical-align: top;\n",
       "    }\n",
       "\n",
       "    .dataframe thead th {\n",
       "        text-align: right;\n",
       "    }\n",
       "</style>\n",
       "<table border=\"1\" class=\"dataframe\">\n",
       "  <thead>\n",
       "    <tr style=\"text-align: right;\">\n",
       "      <th></th>\n",
       "      <th>close</th>\n",
       "      <th>close first diff</th>\n",
       "      <th>close first Diffrencing</th>\n",
       "    </tr>\n",
       "    <tr>\n",
       "      <th>timestamp</th>\n",
       "      <th></th>\n",
       "      <th></th>\n",
       "      <th></th>\n",
       "    </tr>\n",
       "  </thead>\n",
       "  <tbody>\n",
       "    <tr>\n",
       "      <th>2020-06-24 14:25:00</th>\n",
       "      <td>10416.45</td>\n",
       "      <td>6.20</td>\n",
       "      <td>NaN</td>\n",
       "    </tr>\n",
       "    <tr>\n",
       "      <th>2020-06-24 14:26:00</th>\n",
       "      <td>10408.75</td>\n",
       "      <td>-7.70</td>\n",
       "      <td>-7.70</td>\n",
       "    </tr>\n",
       "    <tr>\n",
       "      <th>2020-06-24 14:27:00</th>\n",
       "      <td>10404.50</td>\n",
       "      <td>-4.25</td>\n",
       "      <td>-4.25</td>\n",
       "    </tr>\n",
       "    <tr>\n",
       "      <th>2020-06-24 14:28:00</th>\n",
       "      <td>10407.30</td>\n",
       "      <td>2.80</td>\n",
       "      <td>2.80</td>\n",
       "    </tr>\n",
       "    <tr>\n",
       "      <th>2020-06-24 14:29:00</th>\n",
       "      <td>10394.30</td>\n",
       "      <td>-13.00</td>\n",
       "      <td>-13.00</td>\n",
       "    </tr>\n",
       "    <tr>\n",
       "      <th>...</th>\n",
       "      <td>...</td>\n",
       "      <td>...</td>\n",
       "      <td>...</td>\n",
       "    </tr>\n",
       "    <tr>\n",
       "      <th>2021-01-01 15:24:00</th>\n",
       "      <td>14022.70</td>\n",
       "      <td>4.50</td>\n",
       "      <td>4.50</td>\n",
       "    </tr>\n",
       "    <tr>\n",
       "      <th>2021-01-01 15:25:00</th>\n",
       "      <td>14019.00</td>\n",
       "      <td>-3.70</td>\n",
       "      <td>-3.70</td>\n",
       "    </tr>\n",
       "    <tr>\n",
       "      <th>2021-01-01 15:26:00</th>\n",
       "      <td>14019.10</td>\n",
       "      <td>0.10</td>\n",
       "      <td>0.10</td>\n",
       "    </tr>\n",
       "    <tr>\n",
       "      <th>2021-01-01 15:27:00</th>\n",
       "      <td>14018.15</td>\n",
       "      <td>-0.95</td>\n",
       "      <td>-0.95</td>\n",
       "    </tr>\n",
       "    <tr>\n",
       "      <th>2021-01-01 15:28:00</th>\n",
       "      <td>14015.00</td>\n",
       "      <td>-3.15</td>\n",
       "      <td>-3.15</td>\n",
       "    </tr>\n",
       "  </tbody>\n",
       "</table>\n",
       "<p>49996 rows × 3 columns</p>\n",
       "</div>"
      ],
      "text/plain": [
       "                        close  close first diff  close first Diffrencing\n",
       "timestamp                                                               \n",
       "2020-06-24 14:25:00  10416.45              6.20                      NaN\n",
       "2020-06-24 14:26:00  10408.75             -7.70                    -7.70\n",
       "2020-06-24 14:27:00  10404.50             -4.25                    -4.25\n",
       "2020-06-24 14:28:00  10407.30              2.80                     2.80\n",
       "2020-06-24 14:29:00  10394.30            -13.00                   -13.00\n",
       "...                       ...               ...                      ...\n",
       "2021-01-01 15:24:00  14022.70              4.50                     4.50\n",
       "2021-01-01 15:25:00  14019.00             -3.70                    -3.70\n",
       "2021-01-01 15:26:00  14019.10              0.10                     0.10\n",
       "2021-01-01 15:27:00  14018.15             -0.95                    -0.95\n",
       "2021-01-01 15:28:00  14015.00             -3.15                    -3.15\n",
       "\n",
       "[49996 rows x 3 columns]"
      ]
     },
     "execution_count": 56,
     "metadata": {},
     "output_type": "execute_result"
    }
   ],
   "source": [
    "df_arima"
   ]
  },
  {
   "cell_type": "code",
   "execution_count": null,
   "id": "3d3f4779",
   "metadata": {},
   "outputs": [],
   "source": []
  },
  {
   "cell_type": "code",
   "execution_count": 57,
   "id": "7dccafac",
   "metadata": {},
   "outputs": [],
   "source": [
    "#Drop Na after first diffrencing"
   ]
  },
  {
   "cell_type": "code",
   "execution_count": 61,
   "id": "ca8dcaf0",
   "metadata": {},
   "outputs": [
    {
     "data": {
      "text/plain": [
       "close                      0\n",
       "close first diff           0\n",
       "close first Diffrencing    0\n",
       "dtype: int64"
      ]
     },
     "execution_count": 61,
     "metadata": {},
     "output_type": "execute_result"
    }
   ],
   "source": [
    "df_arima.isnull().sum()"
   ]
  },
  {
   "cell_type": "code",
   "execution_count": 63,
   "id": "6e247210",
   "metadata": {},
   "outputs": [
    {
     "data": {
      "text/html": [
       "<div>\n",
       "<style scoped>\n",
       "    .dataframe tbody tr th:only-of-type {\n",
       "        vertical-align: middle;\n",
       "    }\n",
       "\n",
       "    .dataframe tbody tr th {\n",
       "        vertical-align: top;\n",
       "    }\n",
       "\n",
       "    .dataframe thead th {\n",
       "        text-align: right;\n",
       "    }\n",
       "</style>\n",
       "<table border=\"1\" class=\"dataframe\">\n",
       "  <thead>\n",
       "    <tr style=\"text-align: right;\">\n",
       "      <th></th>\n",
       "      <th>close</th>\n",
       "      <th>close first Diffrencing</th>\n",
       "    </tr>\n",
       "    <tr>\n",
       "      <th>timestamp</th>\n",
       "      <th></th>\n",
       "      <th></th>\n",
       "    </tr>\n",
       "  </thead>\n",
       "  <tbody>\n",
       "    <tr>\n",
       "      <th>2020-06-24 14:26:00</th>\n",
       "      <td>10408.75</td>\n",
       "      <td>-7.70</td>\n",
       "    </tr>\n",
       "    <tr>\n",
       "      <th>2020-06-24 14:27:00</th>\n",
       "      <td>10404.50</td>\n",
       "      <td>-4.25</td>\n",
       "    </tr>\n",
       "    <tr>\n",
       "      <th>2020-06-24 14:28:00</th>\n",
       "      <td>10407.30</td>\n",
       "      <td>2.80</td>\n",
       "    </tr>\n",
       "    <tr>\n",
       "      <th>2020-06-24 14:29:00</th>\n",
       "      <td>10394.30</td>\n",
       "      <td>-13.00</td>\n",
       "    </tr>\n",
       "    <tr>\n",
       "      <th>2020-06-24 14:30:00</th>\n",
       "      <td>10395.30</td>\n",
       "      <td>1.00</td>\n",
       "    </tr>\n",
       "    <tr>\n",
       "      <th>...</th>\n",
       "      <td>...</td>\n",
       "      <td>...</td>\n",
       "    </tr>\n",
       "    <tr>\n",
       "      <th>2021-01-01 15:24:00</th>\n",
       "      <td>14022.70</td>\n",
       "      <td>4.50</td>\n",
       "    </tr>\n",
       "    <tr>\n",
       "      <th>2021-01-01 15:25:00</th>\n",
       "      <td>14019.00</td>\n",
       "      <td>-3.70</td>\n",
       "    </tr>\n",
       "    <tr>\n",
       "      <th>2021-01-01 15:26:00</th>\n",
       "      <td>14019.10</td>\n",
       "      <td>0.10</td>\n",
       "    </tr>\n",
       "    <tr>\n",
       "      <th>2021-01-01 15:27:00</th>\n",
       "      <td>14018.15</td>\n",
       "      <td>-0.95</td>\n",
       "    </tr>\n",
       "    <tr>\n",
       "      <th>2021-01-01 15:28:00</th>\n",
       "      <td>14015.00</td>\n",
       "      <td>-3.15</td>\n",
       "    </tr>\n",
       "  </tbody>\n",
       "</table>\n",
       "<p>49995 rows × 2 columns</p>\n",
       "</div>"
      ],
      "text/plain": [
       "                        close  close first Diffrencing\n",
       "timestamp                                             \n",
       "2020-06-24 14:26:00  10408.75                    -7.70\n",
       "2020-06-24 14:27:00  10404.50                    -4.25\n",
       "2020-06-24 14:28:00  10407.30                     2.80\n",
       "2020-06-24 14:29:00  10394.30                   -13.00\n",
       "2020-06-24 14:30:00  10395.30                     1.00\n",
       "...                       ...                      ...\n",
       "2021-01-01 15:24:00  14022.70                     4.50\n",
       "2021-01-01 15:25:00  14019.00                    -3.70\n",
       "2021-01-01 15:26:00  14019.10                     0.10\n",
       "2021-01-01 15:27:00  14018.15                    -0.95\n",
       "2021-01-01 15:28:00  14015.00                    -3.15\n",
       "\n",
       "[49995 rows x 2 columns]"
      ]
     },
     "execution_count": 63,
     "metadata": {},
     "output_type": "execute_result"
    }
   ],
   "source": [
    "df_arima.drop(['close first diff'],axis=1)"
   ]
  },
  {
   "cell_type": "code",
   "execution_count": 64,
   "id": "fd8c841f",
   "metadata": {},
   "outputs": [],
   "source": [
    "df_arima.dropna(inplace=True)"
   ]
  },
  {
   "cell_type": "code",
   "execution_count": 66,
   "id": "223c6e59",
   "metadata": {},
   "outputs": [
    {
     "name": "stdout",
     "output_type": "stream",
     "text": [
      "ADF Statistics: -69.7081658780783\n",
      "p- value: 0.0\n",
      "strong evidence against the null hypothesis, reject the null hypothesis. Data has no unit root and is stationary\n"
     ]
    }
   ],
   "source": [
    "adf_test(df_arima['close first Diffrencing'])"
   ]
  },
  {
   "cell_type": "code",
   "execution_count": 67,
   "id": "7bb0879c",
   "metadata": {},
   "outputs": [],
   "source": [
    "#pValue is 0 < 0.05 thus Data is stationary"
   ]
  },
  {
   "cell_type": "code",
   "execution_count": 68,
   "id": "743cc375",
   "metadata": {},
   "outputs": [],
   "source": [
    "## 12 months \n",
    "## Use Techniques Differencing\n",
    "#df_arima['close 12 Difference']=df_arima['close']-df_arima['close'].shift(12)"
   ]
  },
  {
   "cell_type": "code",
   "execution_count": 69,
   "id": "730fc19f",
   "metadata": {},
   "outputs": [],
   "source": [
    "from statsmodels.graphics.tsaplots import plot_acf,plot_pacf"
   ]
  },
  {
   "cell_type": "code",
   "execution_count": 70,
   "id": "7b285533",
   "metadata": {},
   "outputs": [
    {
     "data": {
      "image/png": "[encoded data removed]",
      "text/plain": [
       "<Figure size 432x288 with 1 Axes>"
      ]
     },
     "metadata": {
      "needs_background": "light"
     },
     "output_type": "display_data"
    }
   ],
   "source": [
    "acf = plot_acf(df_arima[\"close first Diffrencing\"].dropna())"
   ]
  },
  {
   "cell_type": "code",
   "execution_count": 86,
   "id": "601a58d1",
   "metadata": {},
   "outputs": [
    {
     "name": "stderr",
     "output_type": "stream",
     "text": [
      "D:\\Python\\anaconda3\\lib\\site-packages\\statsmodels\\graphics\\tsaplots.py:348: FutureWarning: The default method 'yw' can produce PACF values outside of the [-1,1] interval. After 0.13, the default will change tounadjusted Yule-Walker ('ywm'). You can use this method now by setting method='ywm'.\n",
      "  warnings.warn(\n"
     ]
    },
    {
     "data": {
      "image/png": "[encoded data removed]",
      "text/plain": [
       "<Figure size 432x288 with 1 Axes>"
      ]
     },
     "metadata": {
      "needs_background": "light"
     },
     "output_type": "display_data"
    }
   ],
   "source": [
    "pacf_second = plot_pacf(df_arima[\"close first Diffrencing\"].dropna())"
   ]
  },
  {
   "cell_type": "code",
   "execution_count": 71,
   "id": "9b4c25b8",
   "metadata": {},
   "outputs": [],
   "source": [
    "## Use Techniques Differencing\n",
    "df_arima['close second Diffrencing']=df_arima['close']-(df_arima['close'].shift(10))"
   ]
  },
  {
   "cell_type": "code",
   "execution_count": 72,
   "id": "4ed49b80",
   "metadata": {},
   "outputs": [
    {
     "data": {
      "text/html": [
       "<div>\n",
       "<style scoped>\n",
       "    .dataframe tbody tr th:only-of-type {\n",
       "        vertical-align: middle;\n",
       "    }\n",
       "\n",
       "    .dataframe tbody tr th {\n",
       "        vertical-align: top;\n",
       "    }\n",
       "\n",
       "    .dataframe thead th {\n",
       "        text-align: right;\n",
       "    }\n",
       "</style>\n",
       "<table border=\"1\" class=\"dataframe\">\n",
       "  <thead>\n",
       "    <tr style=\"text-align: right;\">\n",
       "      <th></th>\n",
       "      <th>close</th>\n",
       "      <th>close first diff</th>\n",
       "      <th>close first Diffrencing</th>\n",
       "      <th>close second Diffrencing</th>\n",
       "    </tr>\n",
       "    <tr>\n",
       "      <th>timestamp</th>\n",
       "      <th></th>\n",
       "      <th></th>\n",
       "      <th></th>\n",
       "      <th></th>\n",
       "    </tr>\n",
       "  </thead>\n",
       "  <tbody>\n",
       "    <tr>\n",
       "      <th>2020-06-24 14:26:00</th>\n",
       "      <td>10408.75</td>\n",
       "      <td>-7.70</td>\n",
       "      <td>-7.70</td>\n",
       "      <td>NaN</td>\n",
       "    </tr>\n",
       "    <tr>\n",
       "      <th>2020-06-24 14:27:00</th>\n",
       "      <td>10404.50</td>\n",
       "      <td>-4.25</td>\n",
       "      <td>-4.25</td>\n",
       "      <td>NaN</td>\n",
       "    </tr>\n",
       "    <tr>\n",
       "      <th>2020-06-24 14:28:00</th>\n",
       "      <td>10407.30</td>\n",
       "      <td>2.80</td>\n",
       "      <td>2.80</td>\n",
       "      <td>NaN</td>\n",
       "    </tr>\n",
       "    <tr>\n",
       "      <th>2020-06-24 14:29:00</th>\n",
       "      <td>10394.30</td>\n",
       "      <td>-13.00</td>\n",
       "      <td>-13.00</td>\n",
       "      <td>NaN</td>\n",
       "    </tr>\n",
       "    <tr>\n",
       "      <th>2020-06-24 14:30:00</th>\n",
       "      <td>10395.30</td>\n",
       "      <td>1.00</td>\n",
       "      <td>1.00</td>\n",
       "      <td>NaN</td>\n",
       "    </tr>\n",
       "    <tr>\n",
       "      <th>...</th>\n",
       "      <td>...</td>\n",
       "      <td>...</td>\n",
       "      <td>...</td>\n",
       "      <td>...</td>\n",
       "    </tr>\n",
       "    <tr>\n",
       "      <th>2021-01-01 15:24:00</th>\n",
       "      <td>14022.70</td>\n",
       "      <td>4.50</td>\n",
       "      <td>4.50</td>\n",
       "      <td>7.70</td>\n",
       "    </tr>\n",
       "    <tr>\n",
       "      <th>2021-01-01 15:25:00</th>\n",
       "      <td>14019.00</td>\n",
       "      <td>-3.70</td>\n",
       "      <td>-3.70</td>\n",
       "      <td>4.80</td>\n",
       "    </tr>\n",
       "    <tr>\n",
       "      <th>2021-01-01 15:26:00</th>\n",
       "      <td>14019.10</td>\n",
       "      <td>0.10</td>\n",
       "      <td>0.10</td>\n",
       "      <td>7.60</td>\n",
       "    </tr>\n",
       "    <tr>\n",
       "      <th>2021-01-01 15:27:00</th>\n",
       "      <td>14018.15</td>\n",
       "      <td>-0.95</td>\n",
       "      <td>-0.95</td>\n",
       "      <td>9.50</td>\n",
       "    </tr>\n",
       "    <tr>\n",
       "      <th>2021-01-01 15:28:00</th>\n",
       "      <td>14015.00</td>\n",
       "      <td>-3.15</td>\n",
       "      <td>-3.15</td>\n",
       "      <td>2.45</td>\n",
       "    </tr>\n",
       "  </tbody>\n",
       "</table>\n",
       "<p>49995 rows × 4 columns</p>\n",
       "</div>"
      ],
      "text/plain": [
       "                        close  close first diff  close first Diffrencing  \\\n",
       "timestamp                                                                  \n",
       "2020-06-24 14:26:00  10408.75             -7.70                    -7.70   \n",
       "2020-06-24 14:27:00  10404.50             -4.25                    -4.25   \n",
       "2020-06-24 14:28:00  10407.30              2.80                     2.80   \n",
       "2020-06-24 14:29:00  10394.30            -13.00                   -13.00   \n",
       "2020-06-24 14:30:00  10395.30              1.00                     1.00   \n",
       "...                       ...               ...                      ...   \n",
       "2021-01-01 15:24:00  14022.70              4.50                     4.50   \n",
       "2021-01-01 15:25:00  14019.00             -3.70                    -3.70   \n",
       "2021-01-01 15:26:00  14019.10              0.10                     0.10   \n",
       "2021-01-01 15:27:00  14018.15             -0.95                    -0.95   \n",
       "2021-01-01 15:28:00  14015.00             -3.15                    -3.15   \n",
       "\n",
       "                     close second Diffrencing  \n",
       "timestamp                                      \n",
       "2020-06-24 14:26:00                       NaN  \n",
       "2020-06-24 14:27:00                       NaN  \n",
       "2020-06-24 14:28:00                       NaN  \n",
       "2020-06-24 14:29:00                       NaN  \n",
       "2020-06-24 14:30:00                       NaN  \n",
       "...                                       ...  \n",
       "2021-01-01 15:24:00                      7.70  \n",
       "2021-01-01 15:25:00                      4.80  \n",
       "2021-01-01 15:26:00                      7.60  \n",
       "2021-01-01 15:27:00                      9.50  \n",
       "2021-01-01 15:28:00                      2.45  \n",
       "\n",
       "[49995 rows x 4 columns]"
      ]
     },
     "execution_count": 72,
     "metadata": {},
     "output_type": "execute_result"
    }
   ],
   "source": [
    "df_arima"
   ]
  },
  {
   "cell_type": "code",
   "execution_count": 73,
   "id": "6e89dfe9",
   "metadata": {},
   "outputs": [
    {
     "data": {
      "text/plain": [
       "close                        0\n",
       "close first diff             0\n",
       "close first Diffrencing      0\n",
       "close second Diffrencing    10\n",
       "dtype: int64"
      ]
     },
     "execution_count": 73,
     "metadata": {},
     "output_type": "execute_result"
    }
   ],
   "source": [
    "df_arima.isnull().sum()"
   ]
  },
  {
   "cell_type": "code",
   "execution_count": 75,
   "id": "74ae3357",
   "metadata": {},
   "outputs": [],
   "source": [
    "df_arima.dropna(inplace=True)"
   ]
  },
  {
   "cell_type": "code",
   "execution_count": 76,
   "id": "a4d1c82d",
   "metadata": {},
   "outputs": [
    {
     "name": "stdout",
     "output_type": "stream",
     "text": [
      "ADF Statistics: -28.01188926981279\n",
      "p- value: 0.0\n",
      "strong evidence against the null hypothesis, reject the null hypothesis. Data has no unit root and is stationary\n"
     ]
    }
   ],
   "source": [
    "adf_test(df_arima['close second Diffrencing'])"
   ]
  },
  {
   "cell_type": "code",
   "execution_count": 83,
   "id": "f19f3b41",
   "metadata": {},
   "outputs": [
    {
     "data": {
      "image/png": "[encoded data removed]",
      "text/plain": [
       "<Figure size 432x288 with 1 Axes>"
      ]
     },
     "metadata": {
      "needs_background": "light"
     },
     "output_type": "display_data"
    }
   ],
   "source": [
    "acf_second = plot_acf(df_arima[\"close second Diffrencing\"].dropna())"
   ]
  },
  {
   "cell_type": "code",
   "execution_count": 84,
   "id": "c09f8d53",
   "metadata": {},
   "outputs": [
    {
     "name": "stderr",
     "output_type": "stream",
     "text": [
      "D:\\Python\\anaconda3\\lib\\site-packages\\statsmodels\\graphics\\tsaplots.py:348: FutureWarning: The default method 'yw' can produce PACF values outside of the [-1,1] interval. After 0.13, the default will change tounadjusted Yule-Walker ('ywm'). You can use this method now by setting method='ywm'.\n",
      "  warnings.warn(\n"
     ]
    },
    {
     "data": {
      "image/png": "[encoded data removed]",
      "text/plain": [
       "<Figure size 432x288 with 1 Axes>"
      ]
     },
     "metadata": {
      "needs_background": "light"
     },
     "output_type": "display_data"
    }
   ],
   "source": [
    "pacf_second = plot_pacf(df_arima[\"close second Diffrencing\"].dropna())"
   ]
  },
  {
   "cell_type": "code",
   "execution_count": 91,
   "id": "d98f1801",
   "metadata": {},
   "outputs": [],
   "source": [
    "## 12 months \n",
    "## Use Techniques Differencing\n",
    "df_arima['close 12 Diffrencing']=df_arima['close']-df_arima['close'].shift(12)"
   ]
  },
  {
   "cell_type": "code",
   "execution_count": 92,
   "id": "82141eea",
   "metadata": {},
   "outputs": [
    {
     "data": {
      "text/plain": [
       "close                        0\n",
       "close first diff             0\n",
       "close first Diffrencing      0\n",
       "close second Diffrencing     0\n",
       "close 12 Difference          0\n",
       "close 12 Diffrencing        12\n",
       "dtype: int64"
      ]
     },
     "execution_count": 92,
     "metadata": {},
     "output_type": "execute_result"
    }
   ],
   "source": [
    "df_arima.isnull().sum()"
   ]
  },
  {
   "cell_type": "code",
   "execution_count": 93,
   "id": "b6a6c102",
   "metadata": {},
   "outputs": [],
   "source": [
    "df_arima.dropna(inplace=True)"
   ]
  },
  {
   "cell_type": "code",
   "execution_count": 94,
   "id": "12c967a4",
   "metadata": {},
   "outputs": [
    {
     "name": "stdout",
     "output_type": "stream",
     "text": [
      "ADF Statistics: -27.83406414943732\n",
      "p- value: 0.0\n",
      "strong evidence against the null hypothesis, reject the null hypothesis. Data has no unit root and is stationary\n"
     ]
    }
   ],
   "source": [
    "adf_test(df_arima['close 12 Diffrencing'])"
   ]
  },
  {
   "cell_type": "code",
   "execution_count": 98,
   "id": "2197c674",
   "metadata": {},
   "outputs": [
    {
     "data": {
      "image/png": "[encoded data removed]",
      "text/plain": [
       "<Figure size 432x288 with 1 Axes>"
      ]
     },
     "metadata": {
      "needs_background": "light"
     },
     "output_type": "display_data"
    }
   ],
   "source": [
    "acf_second = plot_acf(df_arima[\"close 12 Diffrencing\"].dropna())"
   ]
  },
  {
   "cell_type": "code",
   "execution_count": 97,
   "id": "c4d713fe",
   "metadata": {},
   "outputs": [
    {
     "data": {
      "image/png": "[encoded data removed]",
      "text/plain": [
       "<Figure size 432x288 with 1 Axes>"
      ]
     },
     "metadata": {
      "needs_background": "light"
     },
     "output_type": "display_data"
    }
   ],
   "source": [
    "pacf_second = plot_pacf(df_arima[\"close second Diffrencing\"].dropna(),method='ols')"
   ]
  },
  {
   "cell_type": "code",
   "execution_count": 104,
   "id": "ff29ed58",
   "metadata": {},
   "outputs": [
    {
     "data": {
      "text/html": [
       "<div>\n",
       "<style scoped>\n",
       "    .dataframe tbody tr th:only-of-type {\n",
       "        vertical-align: middle;\n",
       "    }\n",
       "\n",
       "    .dataframe tbody tr th {\n",
       "        vertical-align: top;\n",
       "    }\n",
       "\n",
       "    .dataframe thead th {\n",
       "        text-align: right;\n",
       "    }\n",
       "</style>\n",
       "<table border=\"1\" class=\"dataframe\">\n",
       "  <thead>\n",
       "    <tr style=\"text-align: right;\">\n",
       "      <th></th>\n",
       "      <th>close</th>\n",
       "      <th>close first diff</th>\n",
       "      <th>close first Diffrencing</th>\n",
       "      <th>close second Diffrencing</th>\n",
       "      <th>close 12 Diffrencing</th>\n",
       "    </tr>\n",
       "    <tr>\n",
       "      <th>timestamp</th>\n",
       "      <th></th>\n",
       "      <th></th>\n",
       "      <th></th>\n",
       "      <th></th>\n",
       "      <th></th>\n",
       "    </tr>\n",
       "  </thead>\n",
       "  <tbody>\n",
       "    <tr>\n",
       "      <th>2020-06-24 15:00:00</th>\n",
       "      <td>10339.10</td>\n",
       "      <td>7.10</td>\n",
       "      <td>7.10</td>\n",
       "      <td>8.95</td>\n",
       "      <td>1.55</td>\n",
       "    </tr>\n",
       "    <tr>\n",
       "      <th>2020-06-24 15:01:00</th>\n",
       "      <td>10320.65</td>\n",
       "      <td>-18.45</td>\n",
       "      <td>-18.45</td>\n",
       "      <td>-7.35</td>\n",
       "      <td>-2.40</td>\n",
       "    </tr>\n",
       "    <tr>\n",
       "      <th>2020-06-24 15:02:00</th>\n",
       "      <td>10329.50</td>\n",
       "      <td>8.85</td>\n",
       "      <td>8.85</td>\n",
       "      <td>12.65</td>\n",
       "      <td>-0.65</td>\n",
       "    </tr>\n",
       "    <tr>\n",
       "      <th>2020-06-24 15:03:00</th>\n",
       "      <td>10320.75</td>\n",
       "      <td>-8.75</td>\n",
       "      <td>-8.75</td>\n",
       "      <td>7.90</td>\n",
       "      <td>-7.25</td>\n",
       "    </tr>\n",
       "    <tr>\n",
       "      <th>2020-06-24 15:04:00</th>\n",
       "      <td>10315.55</td>\n",
       "      <td>-5.20</td>\n",
       "      <td>-5.20</td>\n",
       "      <td>-2.70</td>\n",
       "      <td>-1.30</td>\n",
       "    </tr>\n",
       "    <tr>\n",
       "      <th>...</th>\n",
       "      <td>...</td>\n",
       "      <td>...</td>\n",
       "      <td>...</td>\n",
       "      <td>...</td>\n",
       "      <td>...</td>\n",
       "    </tr>\n",
       "    <tr>\n",
       "      <th>2021-01-01 15:24:00</th>\n",
       "      <td>14022.70</td>\n",
       "      <td>4.50</td>\n",
       "      <td>4.50</td>\n",
       "      <td>7.70</td>\n",
       "      <td>4.05</td>\n",
       "    </tr>\n",
       "    <tr>\n",
       "      <th>2021-01-01 15:25:00</th>\n",
       "      <td>14019.00</td>\n",
       "      <td>-3.70</td>\n",
       "      <td>-3.70</td>\n",
       "      <td>4.80</td>\n",
       "      <td>3.05</td>\n",
       "    </tr>\n",
       "    <tr>\n",
       "      <th>2021-01-01 15:26:00</th>\n",
       "      <td>14019.10</td>\n",
       "      <td>0.10</td>\n",
       "      <td>0.10</td>\n",
       "      <td>7.60</td>\n",
       "      <td>4.10</td>\n",
       "    </tr>\n",
       "    <tr>\n",
       "      <th>2021-01-01 15:27:00</th>\n",
       "      <td>14018.15</td>\n",
       "      <td>-0.95</td>\n",
       "      <td>-0.95</td>\n",
       "      <td>9.50</td>\n",
       "      <td>3.95</td>\n",
       "    </tr>\n",
       "    <tr>\n",
       "      <th>2021-01-01 15:28:00</th>\n",
       "      <td>14015.00</td>\n",
       "      <td>-3.15</td>\n",
       "      <td>-3.15</td>\n",
       "      <td>2.45</td>\n",
       "      <td>3.50</td>\n",
       "    </tr>\n",
       "  </tbody>\n",
       "</table>\n",
       "<p>49961 rows × 5 columns</p>\n",
       "</div>"
      ],
      "text/plain": [
       "                        close  close first diff  close first Diffrencing  \\\n",
       "timestamp                                                                  \n",
       "2020-06-24 15:00:00  10339.10              7.10                     7.10   \n",
       "2020-06-24 15:01:00  10320.65            -18.45                   -18.45   \n",
       "2020-06-24 15:02:00  10329.50              8.85                     8.85   \n",
       "2020-06-24 15:03:00  10320.75             -8.75                    -8.75   \n",
       "2020-06-24 15:04:00  10315.55             -5.20                    -5.20   \n",
       "...                       ...               ...                      ...   \n",
       "2021-01-01 15:24:00  14022.70              4.50                     4.50   \n",
       "2021-01-01 15:25:00  14019.00             -3.70                    -3.70   \n",
       "2021-01-01 15:26:00  14019.10              0.10                     0.10   \n",
       "2021-01-01 15:27:00  14018.15             -0.95                    -0.95   \n",
       "2021-01-01 15:28:00  14015.00             -3.15                    -3.15   \n",
       "\n",
       "                     close second Diffrencing  close 12 Diffrencing  \n",
       "timestamp                                                            \n",
       "2020-06-24 15:00:00                      8.95                  1.55  \n",
       "2020-06-24 15:01:00                     -7.35                 -2.40  \n",
       "2020-06-24 15:02:00                     12.65                 -0.65  \n",
       "2020-06-24 15:03:00                      7.90                 -7.25  \n",
       "2020-06-24 15:04:00                     -2.70                 -1.30  \n",
       "...                                       ...                   ...  \n",
       "2021-01-01 15:24:00                      7.70                  4.05  \n",
       "2021-01-01 15:25:00                      4.80                  3.05  \n",
       "2021-01-01 15:26:00                      7.60                  4.10  \n",
       "2021-01-01 15:27:00                      9.50                  3.95  \n",
       "2021-01-01 15:28:00                      2.45                  3.50  \n",
       "\n",
       "[49961 rows x 5 columns]"
      ]
     },
     "execution_count": 104,
     "metadata": {},
     "output_type": "execute_result"
    }
   ],
   "source": [
    "df_arima.drop(['close 12 Difference'],axis=1,inplace=True)\n",
    "df_arima"
   ]
  },
  {
   "cell_type": "code",
   "execution_count": 108,
   "id": "67b20655",
   "metadata": {},
   "outputs": [
    {
     "data": {
      "text/plain": [
       "Timestamp('2020-06-24 15:00:00')"
      ]
     },
     "execution_count": 108,
     "metadata": {},
     "output_type": "execute_result"
    }
   ],
   "source": [
    "df_arima.index.min()"
   ]
  },
  {
   "cell_type": "code",
   "execution_count": 107,
   "id": "0e0ebd92",
   "metadata": {},
   "outputs": [
    {
     "data": {
      "text/plain": [
       "Timestamp('2021-01-01 15:28:00')"
      ]
     },
     "execution_count": 107,
     "metadata": {},
     "output_type": "execute_result"
    }
   ],
   "source": [
    "df_arima.index.max()"
   ]
  },
  {
   "cell_type": "code",
   "execution_count": null,
   "id": "7594734a",
   "metadata": {},
   "outputs": [],
   "source": [
    "#374 min from 9:15 am to 3:29 pm\n",
    "#374 of 1 day \n",
    "#374 * 22\n",
    "#8228 rows for 1 month \n",
    "# we have 6 momths data\n"
   ]
  },
  {
   "cell_type": "code",
   "execution_count": 110,
   "id": "2e4a4a4f",
   "metadata": {},
   "outputs": [
    {
     "data": {
      "text/plain": [
       "(138, 5)"
      ]
     },
     "execution_count": 110,
     "metadata": {},
     "output_type": "execute_result"
    }
   ],
   "source": [
    "df_arima.asfreq('B').shape"
   ]
  },
  {
   "cell_type": "code",
   "execution_count": 111,
   "id": "8e2d69b6",
   "metadata": {},
   "outputs": [],
   "source": [
    "## 1 month\n",
    "## Use Techniques Differencing\n",
    "df_arima['close 1 month Diffrencing']=df_arima['close']-df_arima['close'].shift(8228)"
   ]
  },
  {
   "cell_type": "code",
   "execution_count": 112,
   "id": "d92a1ef6",
   "metadata": {},
   "outputs": [
    {
     "data": {
      "text/plain": [
       "close                           0\n",
       "close first diff                0\n",
       "close first Diffrencing         0\n",
       "close second Diffrencing        0\n",
       "close 12 Diffrencing            0\n",
       "close 1 month Diffrencing    8228\n",
       "dtype: int64"
      ]
     },
     "execution_count": 112,
     "metadata": {},
     "output_type": "execute_result"
    }
   ],
   "source": [
    "df_arima.isnull().sum()"
   ]
  },
  {
   "cell_type": "code",
   "execution_count": 113,
   "id": "d9732119",
   "metadata": {},
   "outputs": [],
   "source": [
    "df_arima.dropna(inplace=True)"
   ]
  },
  {
   "cell_type": "code",
   "execution_count": 115,
   "id": "0073506c",
   "metadata": {},
   "outputs": [
    {
     "name": "stdout",
     "output_type": "stream",
     "text": [
      "ADF Statistics: -1.7990461044246675\n",
      "p- value: 0.38093537902343516\n",
      "weak evidence against null hypothesis, time series has a unit root, indicating it is non-stationary \n"
     ]
    }
   ],
   "source": [
    "adf_test(df_arima['close 1 month Diffrencing'])"
   ]
  },
  {
   "cell_type": "code",
   "execution_count": 117,
   "id": "c5d3b434",
   "metadata": {},
   "outputs": [
    {
     "data": {
      "image/png": "[encoded data removed]",
      "text/plain": [
       "<Figure size 432x288 with 1 Axes>"
      ]
     },
     "metadata": {
      "needs_background": "light"
     },
     "output_type": "display_data"
    }
   ],
   "source": [
    "acf_1month = plot_acf(df_arima[\"close 1 month Diffrencing\"].dropna())"
   ]
  },
  {
   "cell_type": "code",
   "execution_count": 121,
   "id": "a412d06e",
   "metadata": {},
   "outputs": [],
   "source": [
    "## 2 months \n",
    "## Use Techniques Differencing\n",
    "df_arima['close 2 month Diffrencing']=df_arima['close']-df_arima['close'].shift(16456)"
   ]
  },
  {
   "cell_type": "code",
   "execution_count": 123,
   "id": "6768b8ff",
   "metadata": {},
   "outputs": [
    {
     "name": "stdout",
     "output_type": "stream",
     "text": [
      "ADF Statistics: -1.2026179748907593\n",
      "p- value: 0.6724685125027042\n",
      "weak evidence against null hypothesis, time series has a unit root, indicating it is non-stationary \n"
     ]
    }
   ],
   "source": [
    "adf_test(df_arima['close 2 month Diffrencing'].dropna())"
   ]
  },
  {
   "cell_type": "code",
   "execution_count": 124,
   "id": "c16a240b",
   "metadata": {},
   "outputs": [],
   "source": [
    "## 15 days\n",
    "## Use Techniques Differencing\n",
    "df_arima['close 15 days Diffrencing']=df_arima['close']-df_arima['close'].shift(4114)"
   ]
  },
  {
   "cell_type": "code",
   "execution_count": 125,
   "id": "570bb550",
   "metadata": {},
   "outputs": [
    {
     "name": "stdout",
     "output_type": "stream",
     "text": [
      "ADF Statistics: -2.0662989772422065\n",
      "p- value: 0.25828002274461914\n",
      "weak evidence against null hypothesis, time series has a unit root, indicating it is non-stationary \n"
     ]
    }
   ],
   "source": [
    "adf_test(df_arima['close 15 days Diffrencing'].dropna())"
   ]
  },
  {
   "cell_type": "code",
   "execution_count": 126,
   "id": "3d760b02",
   "metadata": {},
   "outputs": [],
   "source": [
    "## 5 days \n",
    "## Use Techniques Differencing\n",
    "df_arima['close 5 days Diffrencing']=df_arima['close']-df_arima['close'].shift(1870)"
   ]
  },
  {
   "cell_type": "code",
   "execution_count": 127,
   "id": "4911d421",
   "metadata": {},
   "outputs": [
    {
     "name": "stdout",
     "output_type": "stream",
     "text": [
      "ADF Statistics: -3.0007418185083288\n",
      "p- value: 0.03482518181060152\n",
      "strong evidence against the null hypothesis, reject the null hypothesis. Data has no unit root and is stationary\n"
     ]
    }
   ],
   "source": [
    "adf_test(df_arima['close 5 days Diffrencing'].dropna())"
   ]
  },
  {
   "cell_type": "code",
   "execution_count": 128,
   "id": "981186c2",
   "metadata": {},
   "outputs": [
    {
     "data": {
      "image/png": "[encoded data removed]",
      "text/plain": [
       "<Figure size 432x288 with 1 Axes>"
      ]
     },
     "metadata": {
      "needs_background": "light"
     },
     "output_type": "display_data"
    }
   ],
   "source": [
    "acf_5days = plot_acf(df_arima[\"close 5 days Diffrencing\"].dropna())"
   ]
  },
  {
   "cell_type": "code",
   "execution_count": 129,
   "id": "3a089139",
   "metadata": {},
   "outputs": [],
   "source": [
    "## 5 days \n",
    "## Use Techniques Differencing\n",
    "df_arima['close 1 day Diffrencing']=df_arima['close']-df_arima['close'].shift(374)"
   ]
  },
  {
   "cell_type": "code",
   "execution_count": 130,
   "id": "05c4b012",
   "metadata": {},
   "outputs": [
    {
     "name": "stdout",
     "output_type": "stream",
     "text": [
      "ADF Statistics: -7.077173044413735\n",
      "p- value: 4.76867984763846e-10\n",
      "strong evidence against the null hypothesis, reject the null hypothesis. Data has no unit root and is stationary\n"
     ]
    }
   ],
   "source": [
    "adf_test(df_arima['close 1 day Diffrencing'].dropna())"
   ]
  },
  {
   "cell_type": "code",
   "execution_count": 132,
   "id": "d7743b94",
   "metadata": {},
   "outputs": [
    {
     "data": {
      "image/png": "[encoded data removed]",
      "text/plain": [
       "<Figure size 432x288 with 1 Axes>"
      ]
     },
     "metadata": {
      "needs_background": "light"
     },
     "output_type": "display_data"
    }
   ],
   "source": [
    "acf_1day = plot_acf(df_arima[\"close 1 day Diffrencing\"].dropna())"
   ]
  },
  {
   "cell_type": "code",
   "execution_count": 137,
   "id": "f2b77511",
   "metadata": {},
   "outputs": [
    {
     "data": {
      "image/png": "[encoded data removed]",
      "text/plain": [
       "<Figure size 432x288 with 1 Axes>"
      ]
     },
     "metadata": {
      "needs_background": "light"
     },
     "output_type": "display_data"
    }
   ],
   "source": [
    "pacf_second = plot_pacf(df_arima[\"close 1 day Diffrencing\"].dropna(),method='ols')"
   ]
  },
  {
   "cell_type": "code",
   "execution_count": 133,
   "id": "dc6749a7",
   "metadata": {},
   "outputs": [],
   "source": [
    "## 1 hour \n",
    "## Use Techniques Differencing\n",
    "df_arima['close 1 hour Diffrencing']=df_arima['close']-df_arima['close'].shift(60)"
   ]
  },
  {
   "cell_type": "code",
   "execution_count": 134,
   "id": "ceed9eba",
   "metadata": {},
   "outputs": [
    {
     "name": "stdout",
     "output_type": "stream",
     "text": [
      "ADF Statistics: -24.869335716772504\n",
      "p- value: 0.0\n",
      "strong evidence against the null hypothesis, reject the null hypothesis. Data has no unit root and is stationary\n"
     ]
    }
   ],
   "source": [
    "adf_test(df_arima['close 1 hour Diffrencing'].dropna())"
   ]
  },
  {
   "cell_type": "code",
   "execution_count": 135,
   "id": "907982c7",
   "metadata": {
    "scrolled": true
   },
   "outputs": [
    {
     "data": {
      "image/png": "[encoded data removed]",
      "text/plain": [
       "<Figure size 432x288 with 1 Axes>"
      ]
     },
     "metadata": {
      "needs_background": "light"
     },
     "output_type": "display_data"
    }
   ],
   "source": [
    "acf_1hour = plot_acf(df_arima[\"close 1 hour Diffrencing\"].dropna())"
   ]
  },
  {
   "cell_type": "code",
   "execution_count": 136,
   "id": "3c654e14",
   "metadata": {},
   "outputs": [
    {
     "data": {
      "image/png": "[encoded data removed]",
      "text/plain": [
       "<Figure size 432x288 with 1 Axes>"
      ]
     },
     "metadata": {
      "needs_background": "light"
     },
     "output_type": "display_data"
    }
   ],
   "source": [
    "pacf_second = plot_pacf(df_arima[\"close 1 hour Diffrencing\"].dropna(),method='ols')"
   ]
  },
  {
   "cell_type": "code",
   "execution_count": 138,
   "id": "1aed5ac9",
   "metadata": {},
   "outputs": [],
   "source": [
    "## create a ARIMA model\n",
    "from statsmodels.tsa.arima.model import ARIMA"
   ]
  },
  {
   "cell_type": "code",
   "execution_count": 179,
   "id": "affd4de1",
   "metadata": {},
   "outputs": [
    {
     "data": {
      "text/html": [
       "<div>\n",
       "<style scoped>\n",
       "    .dataframe tbody tr th:only-of-type {\n",
       "        vertical-align: middle;\n",
       "    }\n",
       "\n",
       "    .dataframe tbody tr th {\n",
       "        vertical-align: top;\n",
       "    }\n",
       "\n",
       "    .dataframe thead th {\n",
       "        text-align: right;\n",
       "    }\n",
       "</style>\n",
       "<table border=\"1\" class=\"dataframe\">\n",
       "  <thead>\n",
       "    <tr style=\"text-align: right;\">\n",
       "      <th></th>\n",
       "      <th>close</th>\n",
       "    </tr>\n",
       "    <tr>\n",
       "      <th>timestamp</th>\n",
       "      <th></th>\n",
       "    </tr>\n",
       "  </thead>\n",
       "  <tbody>\n",
       "    <tr>\n",
       "      <th>2020-12-01 09:15:00</th>\n",
       "      <td>12994.95</td>\n",
       "    </tr>\n",
       "    <tr>\n",
       "      <th>2020-12-01 09:16:00</th>\n",
       "      <td>12982.30</td>\n",
       "    </tr>\n",
       "    <tr>\n",
       "      <th>2020-12-01 09:17:00</th>\n",
       "      <td>12992.70</td>\n",
       "    </tr>\n",
       "    <tr>\n",
       "      <th>2020-12-01 09:18:00</th>\n",
       "      <td>12974.25</td>\n",
       "    </tr>\n",
       "    <tr>\n",
       "      <th>2020-12-01 09:19:00</th>\n",
       "      <td>12986.85</td>\n",
       "    </tr>\n",
       "  </tbody>\n",
       "</table>\n",
       "</div>"
      ],
      "text/plain": [
       "                        close\n",
       "timestamp                    \n",
       "2020-12-01 09:15:00  12994.95\n",
       "2020-12-01 09:16:00  12982.30\n",
       "2020-12-01 09:17:00  12992.70\n",
       "2020-12-01 09:18:00  12974.25\n",
       "2020-12-01 09:19:00  12986.85"
      ]
     },
     "execution_count": 179,
     "metadata": {},
     "output_type": "execute_result"
    }
   ],
   "source": [
    "#df_arima_test\n",
    "df_arima.loc[\"2020-12-01 09:15:00\":\"2021-01-01 15:28:00\"]\n",
    "#df_arima.loc[\"2021-01-01 15:28:00\"]\n",
    "df_arima_test=pd.DataFrame(df_arima.loc[\"2020-12-01 09:15:00\":\"2021-01-01 15:28:00\"])\n",
    "df_arima_test.head()\n"
   ]
  },
  {
   "cell_type": "code",
   "execution_count": 180,
   "id": "7202304e",
   "metadata": {},
   "outputs": [
    {
     "name": "stderr",
     "output_type": "stream",
     "text": [
      "D:\\Python\\anaconda3\\lib\\site-packages\\statsmodels\\tsa\\base\\tsa_model.py:471: ValueWarning: A date index has been provided, but it has no associated frequency information and so will be ignored when e.g. forecasting.\n",
      "  self._init_dates(dates, freq)\n",
      "D:\\Python\\anaconda3\\lib\\site-packages\\statsmodels\\tsa\\base\\tsa_model.py:471: ValueWarning: A date index has been provided, but it has no associated frequency information and so will be ignored when e.g. forecasting.\n",
      "  self._init_dates(dates, freq)\n",
      "D:\\Python\\anaconda3\\lib\\site-packages\\statsmodels\\tsa\\base\\tsa_model.py:471: ValueWarning: A date index has been provided, but it has no associated frequency information and so will be ignored when e.g. forecasting.\n",
      "  self._init_dates(dates, freq)\n"
     ]
    }
   ],
   "source": [
    "modelARIMA=ARIMA(df_arima_test['close'],order=(0,60,0))"
   ]
  },
  {
   "cell_type": "code",
   "execution_count": 181,
   "id": "cddda377",
   "metadata": {},
   "outputs": [
    {
     "name": "stderr",
     "output_type": "stream",
     "text": [
      "D:\\Python\\anaconda3\\lib\\site-packages\\statsmodels\\base\\model.py:604: ConvergenceWarning: Maximum Likelihood optimization failed to converge. Check mle_retvals\n",
      "  warnings.warn(\"Maximum Likelihood optimization failed to \"\n"
     ]
    }
   ],
   "source": [
    "modelArima_fit=modelARIMA.fit()"
   ]
  },
  {
   "cell_type": "code",
   "execution_count": null,
   "id": "444132d3",
   "metadata": {},
   "outputs": [],
   "source": []
  },
  {
   "cell_type": "code",
   "execution_count": null,
   "id": "7528d773",
   "metadata": {},
   "outputs": [],
   "source": []
  }
 ],
 "metadata": {
  "kernelspec": {
   "display_name": "Python 3 (ipykernel)",
   "language": "python",
   "name": "python3"
  },
  "language_info": {
   "codemirror_mode": {
    "name": "ipython",
    "version": 3
   },
   "file_extension": ".py",
   "mimetype": "text/x-python",
   "name": "python",
   "nbconvert_exporter": "python",
   "pygments_lexer": "ipython3",
   "version": "3.9.12"
  }
 },
 "nbformat": 4,
 "nbformat_minor": 5
}
